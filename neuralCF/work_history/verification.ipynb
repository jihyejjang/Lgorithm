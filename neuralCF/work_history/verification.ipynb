{
 "cells": [
  {
   "cell_type": "code",
   "execution_count": 2,
   "id": "57bde589",
   "metadata": {},
   "outputs": [
    {
     "name": "stderr",
     "output_type": "stream",
     "text": [
      "C:\\Users\\jh_r_\\AppData\\Local\\Temp\\ipykernel_4832\\1888109994.py:5: DtypeWarning: Columns (4) have mixed types. Specify dtype option on import or set low_memory=False.\n",
      "  pdde = pd.DataFrame(pd.read_csv(datapath+'LPOINT_BIG_COMP_02_PDDE.csv')).sort_values('cust')  #상품 구매정보, 중복 o\n"
     ]
    }
   ],
   "source": [
    "import pandas as pd\n",
    "\n",
    "datapath = '../LPOINT_BIG_COMP/'\n",
    "demo = pd.DataFrame(pd.read_csv(datapath+'LPOINT_BIG_COMP_01_DEMO.csv')).sort_values('cust') #고객 데모, 29913 rows, 중복x\n",
    "pdde = pd.DataFrame(pd.read_csv(datapath+'LPOINT_BIG_COMP_02_PDDE.csv')).sort_values('cust')  #상품 구매정보, 중복 o\n",
    "# copu = pd.DataFrame(pd.read_csv(datapath+'LPOINT_BIG_COMP_03_COP_U.csv')).sort_values('cust')  #제휴사 이용정보, 중복x\n",
    "pdcl = pd.DataFrame(pd.read_csv(datapath+'LPOINT_BIG_COMP_04_PD_CLAC.csv')) #상품 분류정보\n",
    "br = pd.DataFrame(pd.read_csv(datapath+'LPOINT_BIG_COMP_05_BR.csv'))  #점포정보\n",
    "# lpay = pd.DataFrame(pd.read_csv(datapath+'LPOINT_BIG_COMP_06_LPAY.csv')).sort_values('cust').rename(columns={'rct_no' : 'lpay_rct_no'})  #엘페이 이용, 중복x"
   ]
  },
  {
   "cell_type": "code",
   "execution_count": 48,
   "id": "8aa0c568",
   "metadata": {},
   "outputs": [
    {
     "name": "stdout",
     "output_type": "stream",
     "text": [
      "1566\n",
      "24856\n"
     ]
    }
   ],
   "source": [
    "z = list(tbl_pdde.groupby(['cust']).count()['rct_no'])# 고객별 구매 횟수(영수증의 수)\n",
    "print (z.index(12448))\n",
    "print (z.index(10049))"
   ]
  },
  {
   "cell_type": "code",
   "execution_count": 53,
   "id": "96102407",
   "metadata": {
    "scrolled": true
   },
   "outputs": [
    {
     "data": {
      "text/html": [
       "<div>\n",
       "<style scoped>\n",
       "    .dataframe tbody tr th:only-of-type {\n",
       "        vertical-align: middle;\n",
       "    }\n",
       "\n",
       "    .dataframe tbody tr th {\n",
       "        vertical-align: top;\n",
       "    }\n",
       "\n",
       "    .dataframe thead th {\n",
       "        text-align: right;\n",
       "    }\n",
       "</style>\n",
       "<table border=\"1\" class=\"dataframe\">\n",
       "  <thead>\n",
       "    <tr style=\"text-align: right;\">\n",
       "      <th></th>\n",
       "      <th>0</th>\n",
       "    </tr>\n",
       "  </thead>\n",
       "  <tbody>\n",
       "    <tr>\n",
       "      <th>count</th>\n",
       "      <td>26917.000000</td>\n",
       "    </tr>\n",
       "    <tr>\n",
       "      <th>mean</th>\n",
       "      <td>162.787198</td>\n",
       "    </tr>\n",
       "    <tr>\n",
       "      <th>std</th>\n",
       "      <td>227.442772</td>\n",
       "    </tr>\n",
       "    <tr>\n",
       "      <th>min</th>\n",
       "      <td>1.000000</td>\n",
       "    </tr>\n",
       "    <tr>\n",
       "      <th>50%</th>\n",
       "      <td>88.000000</td>\n",
       "    </tr>\n",
       "    <tr>\n",
       "      <th>99.9%</th>\n",
       "      <td>1537.772000</td>\n",
       "    </tr>\n",
       "    <tr>\n",
       "      <th>max</th>\n",
       "      <td>12448.000000</td>\n",
       "    </tr>\n",
       "  </tbody>\n",
       "</table>\n",
       "</div>"
      ],
      "text/plain": [
       "                  0\n",
       "count  26917.000000\n",
       "mean     162.787198\n",
       "std      227.442772\n",
       "min        1.000000\n",
       "50%       88.000000\n",
       "99.9%   1537.772000\n",
       "max    12448.000000"
      ]
     },
     "execution_count": 53,
     "metadata": {},
     "output_type": "execute_result"
    }
   ],
   "source": [
    "z[1566] = 0\n",
    "z[24856] = 0\n",
    "pd.DataFrame(z).describe(percentiles=[0.999])"
   ]
  },
  {
   "cell_type": "code",
   "execution_count": 29,
   "id": "5c6384f0",
   "metadata": {},
   "outputs": [
    {
     "data": {
      "text/plain": [
       "<matplotlib.collections.PathCollection at 0x28f0aebbbb0>"
      ]
     },
     "execution_count": 29,
     "metadata": {},
     "output_type": "execute_result"
    },
    {
     "data": {
      "image/png": "[encoded data removed]",
      "text/plain": [
       "<Figure size 432x288 with 1 Axes>"
      ]
     },
     "metadata": {
      "needs_background": "light"
     },
     "output_type": "display_data"
    }
   ],
   "source": [
    "import matplotlib.pyplot as plt\n",
    "\n",
    "plt.scatter(range(len(z)),z)"
   ]
  },
  {
   "cell_type": "code",
   "execution_count": 32,
   "id": "99611480",
   "metadata": {},
   "outputs": [
    {
     "data": {
      "text/html": [
       "<div>\n",
       "<style scoped>\n",
       "    .dataframe tbody tr th:only-of-type {\n",
       "        vertical-align: middle;\n",
       "    }\n",
       "\n",
       "    .dataframe tbody tr th {\n",
       "        vertical-align: top;\n",
       "    }\n",
       "\n",
       "    .dataframe thead th {\n",
       "        text-align: right;\n",
       "    }\n",
       "</style>\n",
       "<table border=\"1\" class=\"dataframe\">\n",
       "  <thead>\n",
       "    <tr style=\"text-align: right;\">\n",
       "      <th></th>\n",
       "      <th>0</th>\n",
       "    </tr>\n",
       "  </thead>\n",
       "  <tbody>\n",
       "    <tr>\n",
       "      <th>count</th>\n",
       "      <td>26917.000000</td>\n",
       "    </tr>\n",
       "    <tr>\n",
       "      <th>mean</th>\n",
       "      <td>162.787198</td>\n",
       "    </tr>\n",
       "    <tr>\n",
       "      <th>std</th>\n",
       "      <td>227.442772</td>\n",
       "    </tr>\n",
       "    <tr>\n",
       "      <th>min</th>\n",
       "      <td>1.000000</td>\n",
       "    </tr>\n",
       "    <tr>\n",
       "      <th>25%</th>\n",
       "      <td>30.000000</td>\n",
       "    </tr>\n",
       "    <tr>\n",
       "      <th>50%</th>\n",
       "      <td>88.000000</td>\n",
       "    </tr>\n",
       "    <tr>\n",
       "      <th>75%</th>\n",
       "      <td>214.000000</td>\n",
       "    </tr>\n",
       "    <tr>\n",
       "      <th>max</th>\n",
       "      <td>12448.000000</td>\n",
       "    </tr>\n",
       "  </tbody>\n",
       "</table>\n",
       "</div>"
      ],
      "text/plain": [
       "                  0\n",
       "count  26917.000000\n",
       "mean     162.787198\n",
       "std      227.442772\n",
       "min        1.000000\n",
       "25%       30.000000\n",
       "50%       88.000000\n",
       "75%      214.000000\n",
       "max    12448.000000"
      ]
     },
     "execution_count": 32,
     "metadata": {},
     "output_type": "execute_result"
    }
   ],
   "source": [
    "import pandas as pd\n",
    "pd.DataFrame(z).describe()"
   ]
  },
  {
   "cell_type": "markdown",
   "id": "27694aa4",
   "metadata": {},
   "source": [
    "### 비율 별 알고리즘 사용\n",
    "\n",
    "1. 상위 25%까지 (~214회 이상) -> apriori : ncf =  6 : 3 (순서 ap -> ncf 순)\n",
    "2. 상위 25%~ 50% (214회 미만 88회 이상) -> apriori : ncf =  5 : 4 (순서 ap -> ncf 순)\n",
    "3. 상위 50%~ 75% (88회 미만 30회 이상) -> apriori : ncf =  4 : 5 (순서 셔플)\n",
    "4. 상위 75% ~ (~30회 미만) -> apriori : ncf =  3 : 6 (순서 셔플)\n",
    "5. 구매횟수 0 -> gun\n"
   ]
  },
  {
   "cell_type": "code",
   "execution_count": 20,
   "id": "8b5ac3b3",
   "metadata": {},
   "outputs": [
    {
     "data": {
      "text/plain": [
       "30.0"
      ]
     },
     "execution_count": 20,
     "metadata": {},
     "output_type": "execute_result"
    }
   ],
   "source": [
    "import numpy as np\n",
    "np.percentile(list(tbl_pdde.groupby(['cust']).count()['rct_no']),25)"
   ]
  },
  {
   "cell_type": "code",
   "execution_count": 3,
   "id": "2e9545d5",
   "metadata": {},
   "outputs": [],
   "source": [
    "tbl_pdde = pdde\n",
    "tbl_pd_clac = pdcl\n",
    "tbl_demo = demo"
   ]
  },
  {
   "cell_type": "code",
   "execution_count": 4,
   "id": "9b44acfa",
   "metadata": {},
   "outputs": [],
   "source": [
    "cust_id = 'M035502859'\n",
    "cust_tmp = pd.merge(left=tbl_pdde[tbl_pdde.cust == cust_id], right=tbl_pd_clac, on='pd_c')\n",
    "list_pd = cust_tmp.groupby('rct_no')['pd_nm'].apply(list) #같은 영수증\n",
    "dataset = list(list_pd)"
   ]
  },
  {
   "cell_type": "code",
   "execution_count": 5,
   "id": "41944f5f",
   "metadata": {},
   "outputs": [
    {
     "data": {
      "text/html": [
       "<div>\n",
       "<style scoped>\n",
       "    .dataframe tbody tr th:only-of-type {\n",
       "        vertical-align: middle;\n",
       "    }\n",
       "\n",
       "    .dataframe tbody tr th {\n",
       "        vertical-align: top;\n",
       "    }\n",
       "\n",
       "    .dataframe thead th {\n",
       "        text-align: right;\n",
       "    }\n",
       "</style>\n",
       "<table border=\"1\" class=\"dataframe\">\n",
       "  <thead>\n",
       "    <tr style=\"text-align: right;\">\n",
       "      <th></th>\n",
       "      <th>cust</th>\n",
       "      <th>rct_no</th>\n",
       "      <th>chnl_dv</th>\n",
       "      <th>cop_c</th>\n",
       "      <th>br_c</th>\n",
       "      <th>pd_c</th>\n",
       "      <th>de_dt</th>\n",
       "      <th>de_hr</th>\n",
       "      <th>buy_am</th>\n",
       "      <th>buy_ct</th>\n",
       "      <th>pd_nm</th>\n",
       "      <th>clac_hlv_nm</th>\n",
       "      <th>clac_mcls_nm</th>\n",
       "    </tr>\n",
       "  </thead>\n",
       "  <tbody>\n",
       "    <tr>\n",
       "      <th>0</th>\n",
       "      <td>M035502859</td>\n",
       "      <td>A01349567845</td>\n",
       "      <td>1</td>\n",
       "      <td>A01</td>\n",
       "      <td>A010014</td>\n",
       "      <td>PD0772</td>\n",
       "      <td>20210916</td>\n",
       "      <td>20</td>\n",
       "      <td>79000.0</td>\n",
       "      <td>1</td>\n",
       "      <td>남성등산바지</td>\n",
       "      <td>스포츠패션</td>\n",
       "      <td>남성등산/아웃도어의류</td>\n",
       "    </tr>\n",
       "    <tr>\n",
       "      <th>1</th>\n",
       "      <td>M035502859</td>\n",
       "      <td>A01349567845</td>\n",
       "      <td>1</td>\n",
       "      <td>A01</td>\n",
       "      <td>A010014</td>\n",
       "      <td>PD0772</td>\n",
       "      <td>20210916</td>\n",
       "      <td>20</td>\n",
       "      <td>79000.0</td>\n",
       "      <td>1</td>\n",
       "      <td>남성등산바지</td>\n",
       "      <td>스포츠패션</td>\n",
       "      <td>남성등산/아웃도어의류</td>\n",
       "    </tr>\n",
       "    <tr>\n",
       "      <th>2</th>\n",
       "      <td>M035502859</td>\n",
       "      <td>A01349567845</td>\n",
       "      <td>1</td>\n",
       "      <td>A01</td>\n",
       "      <td>A010014</td>\n",
       "      <td>PD0772</td>\n",
       "      <td>20210916</td>\n",
       "      <td>20</td>\n",
       "      <td>79000.0</td>\n",
       "      <td>1</td>\n",
       "      <td>남성등산바지</td>\n",
       "      <td>스포츠패션</td>\n",
       "      <td>남성등산/아웃도어의류</td>\n",
       "    </tr>\n",
       "    <tr>\n",
       "      <th>3</th>\n",
       "      <td>M035502859</td>\n",
       "      <td>A01349567845</td>\n",
       "      <td>1</td>\n",
       "      <td>A01</td>\n",
       "      <td>A010014</td>\n",
       "      <td>PD0772</td>\n",
       "      <td>20210916</td>\n",
       "      <td>20</td>\n",
       "      <td>77000.0</td>\n",
       "      <td>1</td>\n",
       "      <td>남성등산바지</td>\n",
       "      <td>스포츠패션</td>\n",
       "      <td>남성등산/아웃도어의류</td>\n",
       "    </tr>\n",
       "    <tr>\n",
       "      <th>4</th>\n",
       "      <td>M035502859</td>\n",
       "      <td>A01344028118</td>\n",
       "      <td>1</td>\n",
       "      <td>A01</td>\n",
       "      <td>A010004</td>\n",
       "      <td>PD1684</td>\n",
       "      <td>20210912</td>\n",
       "      <td>16</td>\n",
       "      <td>5000.0</td>\n",
       "      <td>2</td>\n",
       "      <td>양식</td>\n",
       "      <td>테넌트/음식점</td>\n",
       "      <td>식당</td>\n",
       "    </tr>\n",
       "    <tr>\n",
       "      <th>...</th>\n",
       "      <td>...</td>\n",
       "      <td>...</td>\n",
       "      <td>...</td>\n",
       "      <td>...</td>\n",
       "      <td>...</td>\n",
       "      <td>...</td>\n",
       "      <td>...</td>\n",
       "      <td>...</td>\n",
       "      <td>...</td>\n",
       "      <td>...</td>\n",
       "      <td>...</td>\n",
       "      <td>...</td>\n",
       "      <td>...</td>\n",
       "    </tr>\n",
       "    <tr>\n",
       "      <th>369</th>\n",
       "      <td>M035502859</td>\n",
       "      <td>A01169002981</td>\n",
       "      <td>1</td>\n",
       "      <td>A01</td>\n",
       "      <td>A010014</td>\n",
       "      <td>PD1094</td>\n",
       "      <td>20210507</td>\n",
       "      <td>17</td>\n",
       "      <td>99000.0</td>\n",
       "      <td>1</td>\n",
       "      <td>남아바지</td>\n",
       "      <td>유아동의류</td>\n",
       "      <td>남아의류하의</td>\n",
       "    </tr>\n",
       "    <tr>\n",
       "      <th>370</th>\n",
       "      <td>M035502859</td>\n",
       "      <td>A01153798763</td>\n",
       "      <td>1</td>\n",
       "      <td>A01</td>\n",
       "      <td>A010045</td>\n",
       "      <td>PD1769</td>\n",
       "      <td>20210428</td>\n",
       "      <td>16</td>\n",
       "      <td>70800.0</td>\n",
       "      <td>1</td>\n",
       "      <td>여성가방액세서리</td>\n",
       "      <td>패션잡화</td>\n",
       "      <td>여성가방</td>\n",
       "    </tr>\n",
       "    <tr>\n",
       "      <th>371</th>\n",
       "      <td>M035502859</td>\n",
       "      <td>A01334213747</td>\n",
       "      <td>1</td>\n",
       "      <td>A01</td>\n",
       "      <td>A010066</td>\n",
       "      <td>PD0038</td>\n",
       "      <td>20210905</td>\n",
       "      <td>18</td>\n",
       "      <td>279000.0</td>\n",
       "      <td>1</td>\n",
       "      <td>혼합즙</td>\n",
       "      <td>건강식품</td>\n",
       "      <td>건강진액</td>\n",
       "    </tr>\n",
       "    <tr>\n",
       "      <th>372</th>\n",
       "      <td>M035502859</td>\n",
       "      <td>A04033453284</td>\n",
       "      <td>1</td>\n",
       "      <td>A04</td>\n",
       "      <td>A043744</td>\n",
       "      <td>PD0332</td>\n",
       "      <td>20210502</td>\n",
       "      <td>21</td>\n",
       "      <td>4800.0</td>\n",
       "      <td>1</td>\n",
       "      <td>컵아이스크림</td>\n",
       "      <td>냉동식품</td>\n",
       "      <td>아이스크림</td>\n",
       "    </tr>\n",
       "    <tr>\n",
       "      <th>373</th>\n",
       "      <td>M035502859</td>\n",
       "      <td>A01018289906</td>\n",
       "      <td>1</td>\n",
       "      <td>A01</td>\n",
       "      <td>A010014</td>\n",
       "      <td>PD0768</td>\n",
       "      <td>20210117</td>\n",
       "      <td>18</td>\n",
       "      <td>258000.0</td>\n",
       "      <td>1</td>\n",
       "      <td>남성골프의류세트</td>\n",
       "      <td>스포츠패션</td>\n",
       "      <td>남성골프의류</td>\n",
       "    </tr>\n",
       "  </tbody>\n",
       "</table>\n",
       "<p>374 rows × 13 columns</p>\n",
       "</div>"
      ],
      "text/plain": [
       "           cust        rct_no  chnl_dv cop_c     br_c    pd_c     de_dt  \\\n",
       "0    M035502859  A01349567845        1   A01  A010014  PD0772  20210916   \n",
       "1    M035502859  A01349567845        1   A01  A010014  PD0772  20210916   \n",
       "2    M035502859  A01349567845        1   A01  A010014  PD0772  20210916   \n",
       "3    M035502859  A01349567845        1   A01  A010014  PD0772  20210916   \n",
       "4    M035502859  A01344028118        1   A01  A010004  PD1684  20210912   \n",
       "..          ...           ...      ...   ...      ...     ...       ...   \n",
       "369  M035502859  A01169002981        1   A01  A010014  PD1094  20210507   \n",
       "370  M035502859  A01153798763        1   A01  A010045  PD1769  20210428   \n",
       "371  M035502859  A01334213747        1   A01  A010066  PD0038  20210905   \n",
       "372  M035502859  A04033453284        1   A04  A043744  PD0332  20210502   \n",
       "373  M035502859  A01018289906        1   A01  A010014  PD0768  20210117   \n",
       "\n",
       "     de_hr    buy_am  buy_ct     pd_nm clac_hlv_nm clac_mcls_nm  \n",
       "0       20   79000.0       1    남성등산바지       스포츠패션  남성등산/아웃도어의류  \n",
       "1       20   79000.0       1    남성등산바지       스포츠패션  남성등산/아웃도어의류  \n",
       "2       20   79000.0       1    남성등산바지       스포츠패션  남성등산/아웃도어의류  \n",
       "3       20   77000.0       1    남성등산바지       스포츠패션  남성등산/아웃도어의류  \n",
       "4       16    5000.0       2        양식     테넌트/음식점           식당  \n",
       "..     ...       ...     ...       ...         ...          ...  \n",
       "369     17   99000.0       1      남아바지       유아동의류       남아의류하의  \n",
       "370     16   70800.0       1  여성가방액세서리        패션잡화         여성가방  \n",
       "371     18  279000.0       1       혼합즙        건강식품         건강진액  \n",
       "372     21    4800.0       1    컵아이스크림        냉동식품        아이스크림  \n",
       "373     18  258000.0       1  남성골프의류세트       스포츠패션       남성골프의류  \n",
       "\n",
       "[374 rows x 13 columns]"
      ]
     },
     "execution_count": 5,
     "metadata": {},
     "output_type": "execute_result"
    }
   ],
   "source": [
    "cust_tmp # cust id에 해당하는 고객의 구매 내역"
   ]
  },
  {
   "cell_type": "code",
   "execution_count": 19,
   "id": "fdbad8f1",
   "metadata": {},
   "outputs": [
    {
     "data": {
      "text/plain": [
       "374"
      ]
     },
     "execution_count": 19,
     "metadata": {},
     "output_type": "execute_result"
    }
   ],
   "source": [
    "import itertools\n",
    "s = list(itertools.chain(*dataset))\n",
    "len(s)"
   ]
  },
  {
   "cell_type": "code",
   "execution_count": 8,
   "id": "d4b15823",
   "metadata": {},
   "outputs": [],
   "source": [
    "dataset #해당 고객이 구매한 상품의 소분류\n",
    "cust_num = len(dataset) #구매 횟수"
   ]
  },
  {
   "cell_type": "code",
   "execution_count": 9,
   "id": "c179e977",
   "metadata": {},
   "outputs": [
    {
     "data": {
      "text/plain": [
       "247"
      ]
     },
     "execution_count": 9,
     "metadata": {},
     "output_type": "execute_result"
    }
   ],
   "source": [
    "cust_num"
   ]
  }
 ],
 "metadata": {
  "kernelspec": {
   "display_name": "tf-sp",
   "language": "python",
   "name": "tf-sp"
  },
  "language_info": {
   "codemirror_mode": {
    "name": "ipython",
    "version": 3
   },
   "file_extension": ".py",
   "mimetype": "text/x-python",
   "name": "python",
   "nbconvert_exporter": "python",
   "pygments_lexer": "ipython3",
   "version": "3.8.13"
  }
 },
 "nbformat": 4,
 "nbformat_minor": 5
}
